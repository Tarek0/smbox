{
 "cells": [
  {
   "cell_type": "code",
   "execution_count": 1,
   "id": "b30b6653",
   "metadata": {
    "pycharm": {
     "name": "#%%\n"
    }
   },
   "outputs": [],
   "source": [
    "import pandas as pd\n",
    "\n",
    "#import sys\n",
    "#sys.path.insert(0, \"./smbox\")\n",
    "\n",
    "from smbox.utils import Logger\n",
    "from smbox.optimise import Optimise\n",
    "from smbox.smbox_config import smbox_params\n",
    "from smbox.paramspace import rf_default_param_space"
   ]
  },
  {
   "cell_type": "code",
   "execution_count": 2,
   "id": "cab09c05",
   "metadata": {
    "pycharm": {
     "name": "#%%\n"
    }
   },
   "outputs": [],
   "source": [
    "logger = Logger()\n",
    "\n",
    "##---- config\n",
    "# Define a configuration dict to hold all key information\n",
    "global config\n",
    "config = {'dataset_source': 'openml'\n",
    "    , 'dataset': 38\n",
    "    , 'algorithm': 'rf'\n",
    "    , 'search_strategy': 'smbox'\n",
    "    , 'search_strategy_config': smbox_params\n",
    "    , 'wallclock': 600\n",
    "    , 'output_root': '/Users/salhit/development/smbox/smbox/test/resources/output/'\n",
    "          }\n",
    "logger.log(f'Experiment Config: {config}', 'DEBUG')\n",
    "##----\n",
    "\n",
    "_random_seed = 42"
   ]
  },
  {
   "cell_type": "code",
   "execution_count": 5,
   "id": "128ed877",
   "metadata": {
    "pycharm": {
     "name": "#%%\n"
    }
   },
   "outputs": [],
   "source": [
    "def fetch_open_ml_data(dataset_id):\n",
    "    import openml\n",
    "    \n",
    "    dataset = openml.datasets.get_dataset(dataset_id)\n",
    "    print(dataset)\n",
    "\n",
    "    X, y, categorical_indicator, attribute_names = dataset.get_data(\n",
    "        dataset_format=\"array\", target=dataset.default_target_attribute\n",
    "    )\n",
    "    df = pd.DataFrame(X, columns=attribute_names)\n",
    "    df[\"target\"] = y\n",
    "\n",
    "    return df, 'target'"
   ]
  },
  {
   "cell_type": "code",
   "execution_count": 8,
   "id": "5a062251",
   "metadata": {
    "pycharm": {
     "name": "#%%\n"
    }
   },
   "outputs": [
    {
     "name": "stdout",
     "output_type": "stream",
     "text": [
      "OpenML Dataset\n",
      "==============\n",
      "Name..........: sick\n",
      "Version.......: 1\n",
      "Format........: ARFF\n",
      "Upload Date...: 2014-04-06 23:22:19\n",
      "Licence.......: Public\n",
      "Download URL..: https://api.openml.org/data/v1/download/38/sick.arff\n",
      "OpenML URL....: https://www.openml.org/d/38\n",
      "# of features.: 30\n",
      "# of instances: 3772\n"
     ]
    }
   ],
   "source": [
    "df, target_name = fetch_open_ml_data(38)\n",
    "\n",
    "#df, target_name = pd.read_csv('/Users/salhit/development/smbox/smbox/test/resources/dataset_38.csv'), 'target'"
   ]
  },
  {
   "cell_type": "code",
   "execution_count": 9,
   "id": "b9f46d51",
   "metadata": {
    "pycharm": {
     "name": "#%%\n"
    }
   },
   "outputs": [
    {
     "data": {
      "text/html": [
       "<div>\n",
       "<style scoped>\n",
       "    .dataframe tbody tr th:only-of-type {\n",
       "        vertical-align: middle;\n",
       "    }\n",
       "\n",
       "    .dataframe tbody tr th {\n",
       "        vertical-align: top;\n",
       "    }\n",
       "\n",
       "    .dataframe thead th {\n",
       "        text-align: right;\n",
       "    }\n",
       "</style>\n",
       "<table border=\"1\" class=\"dataframe\">\n",
       "  <thead>\n",
       "    <tr style=\"text-align: right;\">\n",
       "      <th></th>\n",
       "      <th>age</th>\n",
       "      <th>sex</th>\n",
       "      <th>on_thyroxine</th>\n",
       "      <th>query_on_thyroxine</th>\n",
       "      <th>on_antithyroid_medication</th>\n",
       "      <th>sick</th>\n",
       "      <th>pregnant</th>\n",
       "      <th>thyroid_surgery</th>\n",
       "      <th>I131_treatment</th>\n",
       "      <th>query_hypothyroid</th>\n",
       "      <th>...</th>\n",
       "      <th>TT4_measured</th>\n",
       "      <th>TT4</th>\n",
       "      <th>T4U_measured</th>\n",
       "      <th>T4U</th>\n",
       "      <th>FTI_measured</th>\n",
       "      <th>FTI</th>\n",
       "      <th>TBG_measured</th>\n",
       "      <th>TBG</th>\n",
       "      <th>referral_source</th>\n",
       "      <th>target</th>\n",
       "    </tr>\n",
       "  </thead>\n",
       "  <tbody>\n",
       "    <tr>\n",
       "      <th>0</th>\n",
       "      <td>41.0</td>\n",
       "      <td>0.0</td>\n",
       "      <td>0.0</td>\n",
       "      <td>0.0</td>\n",
       "      <td>0.0</td>\n",
       "      <td>0.0</td>\n",
       "      <td>0.0</td>\n",
       "      <td>0.0</td>\n",
       "      <td>0.0</td>\n",
       "      <td>0.0</td>\n",
       "      <td>...</td>\n",
       "      <td>0.0</td>\n",
       "      <td>125.0</td>\n",
       "      <td>0.0</td>\n",
       "      <td>1.14</td>\n",
       "      <td>0.0</td>\n",
       "      <td>109.0</td>\n",
       "      <td>0.0</td>\n",
       "      <td>NaN</td>\n",
       "      <td>0.0</td>\n",
       "      <td>0</td>\n",
       "    </tr>\n",
       "    <tr>\n",
       "      <th>1</th>\n",
       "      <td>23.0</td>\n",
       "      <td>0.0</td>\n",
       "      <td>0.0</td>\n",
       "      <td>0.0</td>\n",
       "      <td>0.0</td>\n",
       "      <td>0.0</td>\n",
       "      <td>0.0</td>\n",
       "      <td>0.0</td>\n",
       "      <td>0.0</td>\n",
       "      <td>0.0</td>\n",
       "      <td>...</td>\n",
       "      <td>0.0</td>\n",
       "      <td>102.0</td>\n",
       "      <td>1.0</td>\n",
       "      <td>NaN</td>\n",
       "      <td>1.0</td>\n",
       "      <td>NaN</td>\n",
       "      <td>0.0</td>\n",
       "      <td>NaN</td>\n",
       "      <td>1.0</td>\n",
       "      <td>0</td>\n",
       "    </tr>\n",
       "    <tr>\n",
       "      <th>2</th>\n",
       "      <td>46.0</td>\n",
       "      <td>1.0</td>\n",
       "      <td>0.0</td>\n",
       "      <td>0.0</td>\n",
       "      <td>0.0</td>\n",
       "      <td>0.0</td>\n",
       "      <td>0.0</td>\n",
       "      <td>0.0</td>\n",
       "      <td>0.0</td>\n",
       "      <td>0.0</td>\n",
       "      <td>...</td>\n",
       "      <td>0.0</td>\n",
       "      <td>109.0</td>\n",
       "      <td>0.0</td>\n",
       "      <td>0.91</td>\n",
       "      <td>0.0</td>\n",
       "      <td>120.0</td>\n",
       "      <td>0.0</td>\n",
       "      <td>NaN</td>\n",
       "      <td>1.0</td>\n",
       "      <td>0</td>\n",
       "    </tr>\n",
       "    <tr>\n",
       "      <th>3</th>\n",
       "      <td>70.0</td>\n",
       "      <td>0.0</td>\n",
       "      <td>1.0</td>\n",
       "      <td>0.0</td>\n",
       "      <td>0.0</td>\n",
       "      <td>0.0</td>\n",
       "      <td>0.0</td>\n",
       "      <td>0.0</td>\n",
       "      <td>0.0</td>\n",
       "      <td>0.0</td>\n",
       "      <td>...</td>\n",
       "      <td>0.0</td>\n",
       "      <td>175.0</td>\n",
       "      <td>1.0</td>\n",
       "      <td>NaN</td>\n",
       "      <td>1.0</td>\n",
       "      <td>NaN</td>\n",
       "      <td>0.0</td>\n",
       "      <td>NaN</td>\n",
       "      <td>1.0</td>\n",
       "      <td>0</td>\n",
       "    </tr>\n",
       "    <tr>\n",
       "      <th>4</th>\n",
       "      <td>70.0</td>\n",
       "      <td>0.0</td>\n",
       "      <td>0.0</td>\n",
       "      <td>0.0</td>\n",
       "      <td>0.0</td>\n",
       "      <td>0.0</td>\n",
       "      <td>0.0</td>\n",
       "      <td>0.0</td>\n",
       "      <td>0.0</td>\n",
       "      <td>0.0</td>\n",
       "      <td>...</td>\n",
       "      <td>0.0</td>\n",
       "      <td>61.0</td>\n",
       "      <td>0.0</td>\n",
       "      <td>0.87</td>\n",
       "      <td>0.0</td>\n",
       "      <td>70.0</td>\n",
       "      <td>0.0</td>\n",
       "      <td>NaN</td>\n",
       "      <td>2.0</td>\n",
       "      <td>0</td>\n",
       "    </tr>\n",
       "  </tbody>\n",
       "</table>\n",
       "<p>5 rows × 30 columns</p>\n",
       "</div>"
      ],
      "text/plain": [
       "    age  sex  on_thyroxine  query_on_thyroxine  on_antithyroid_medication  \\\n",
       "0  41.0  0.0           0.0                 0.0                        0.0   \n",
       "1  23.0  0.0           0.0                 0.0                        0.0   \n",
       "2  46.0  1.0           0.0                 0.0                        0.0   \n",
       "3  70.0  0.0           1.0                 0.0                        0.0   \n",
       "4  70.0  0.0           0.0                 0.0                        0.0   \n",
       "\n",
       "   sick  pregnant  thyroid_surgery  I131_treatment  query_hypothyroid  ...  \\\n",
       "0   0.0       0.0              0.0             0.0                0.0  ...   \n",
       "1   0.0       0.0              0.0             0.0                0.0  ...   \n",
       "2   0.0       0.0              0.0             0.0                0.0  ...   \n",
       "3   0.0       0.0              0.0             0.0                0.0  ...   \n",
       "4   0.0       0.0              0.0             0.0                0.0  ...   \n",
       "\n",
       "   TT4_measured    TT4  T4U_measured   T4U  FTI_measured    FTI  TBG_measured  \\\n",
       "0           0.0  125.0           0.0  1.14           0.0  109.0           0.0   \n",
       "1           0.0  102.0           1.0   NaN           1.0    NaN           0.0   \n",
       "2           0.0  109.0           0.0  0.91           0.0  120.0           0.0   \n",
       "3           0.0  175.0           1.0   NaN           1.0    NaN           0.0   \n",
       "4           0.0   61.0           0.0  0.87           0.0   70.0           0.0   \n",
       "\n",
       "   TBG  referral_source  target  \n",
       "0  NaN              0.0       0  \n",
       "1  NaN              1.0       0  \n",
       "2  NaN              1.0       0  \n",
       "3  NaN              1.0       0  \n",
       "4  NaN              2.0       0  \n",
       "\n",
       "[5 rows x 30 columns]"
      ]
     },
     "metadata": {},
     "output_type": "display_data"
    }
   ],
   "source": [
    "display(df.head())"
   ]
  },
  {
   "cell_type": "code",
   "execution_count": 11,
   "id": "a0dcfb78",
   "metadata": {
    "pycharm": {
     "name": "#%%\n"
    }
   },
   "outputs": [],
   "source": [
    "y = df[target_name]\n",
    "X = df.drop(target_name, axis=1)\n",
    "X.fillna(0, inplace=True)"
   ]
  },
  {
   "cell_type": "code",
   "execution_count": 12,
   "id": "0bdca9a0",
   "metadata": {
    "pycharm": {
     "name": "#%%\n"
    }
   },
   "outputs": [
    {
     "name": "stdout",
     "output_type": "stream",
     "text": [
      "2023-08-24 21:14:10: -------------Starting SMBOX\n",
      "2023-08-24 21:14:10: Starting run for: 38, for 600 seconds\n",
      "2023-08-24 21:14:26: Global best so far: 0.9631951758565462\n",
      "2023-08-24 21:14:29: improvement: 0.027920885052071576\n",
      "2023-08-24 21:14:29: Global best so far: 0.9911160609086178\n",
      "2023-08-24 21:14:42: improvement: 0.0009919733751566628\n",
      "2023-08-24 21:14:42: Global best so far: 0.9921080342837745\n",
      "2023-08-24 21:15:20: improvement: 0.0015330720130961595\n",
      "2023-08-24 21:15:20: Global best so far: 0.9936411062968706\n",
      "2023-08-24 21:16:19: improvement: 0.0014203371267609288\n",
      "2023-08-24 21:16:19: Global best so far: 0.9950614434236316\n",
      "2023-08-24 21:20:37: improvement: 0.0004165437916237025\n",
      "2023-08-24 21:20:37: Global best so far: 0.9954779872152553\n",
      "2023-08-24 21:20:42: improvement: 1.2693133702224024e-05\n",
      "2023-08-24 21:20:42: Global best so far: 0.9954906803489575\n",
      "2023-08-24 21:24:12: Global best: 0.9954906803489575\n",
      "2023-08-24 21:24:12: Best params: {'max_features': 0.6148978972682412, 'n_estimators': 189, 'max_depth': 57, 'min_samples_leaf': 0.0004530339101590285, 'min_samples_split': 0.0016727513716623327, 'class_weight': 'balanced_subsample'}\n",
      "2023-08-24 21:24:12: Trial output saved to: /Users/salhit/development/smbox/smbox/test/resources/output/trials_smbox_38_rf_2023_08_24_212412.csv\n",
      "2023-08-24 21:24:12: RUN COMPLETE\n"
     ]
    }
   ],
   "source": [
    "data = {\"X_train\": X, \"y_train\":y} # requried data format for SMBOX\n",
    "\n",
    "# use default hperparameter search space\n",
    "cfg_schema = rf_default_param_space\n",
    "\n",
    "logger.log(f'-------------Starting SMBOX')\n",
    "logger.log(f'Initial configuration schema: {cfg_schema}', 'DEBUG')\n",
    "\n",
    "optimiser = Optimise(config, _random_seed)\n",
    "best_parameters = optimiser.SMBOXOptimise(data, cfg_schema)"
   ]
  },
  {
   "cell_type": "code",
   "execution_count": null,
   "id": "29271f48",
   "metadata": {
    "pycharm": {
     "name": "#%%\n"
    }
   },
   "outputs": [],
   "source": []
  }
 ],
 "metadata": {
  "kernelspec": {
   "display_name": "Python [conda env:smbox-examples]",
   "language": "python",
   "name": "conda-env-smbox-examples-py"
  },
  "language_info": {
   "codemirror_mode": {
    "name": "ipython",
    "version": 3
   },
   "file_extension": ".py",
   "mimetype": "text/x-python",
   "name": "python",
   "nbconvert_exporter": "python",
   "pygments_lexer": "ipython3",
   "version": "3.11.4"
  }
 },
 "nbformat": 4,
 "nbformat_minor": 5
}