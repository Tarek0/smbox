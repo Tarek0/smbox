{
 "cells": [
  {
   "cell_type": "code",
   "execution_count": null,
   "id": "bda6d074",
   "metadata": {
    "pycharm": {
     "name": "#%%\n"
    }
   },
   "outputs": [],
   "source": [
    "import pandas as pd\n",
    "import zipfile\n",
    "import re\n",
    "from sklearn.preprocessing import LabelEncoder\n",
    "from smbox.utils import Logger\n",
    "from smbox.optimise import Optimise\n",
    "from smbox.smbox_config import smbox_params\n",
    "from smbox.paramspace import rf_default_param_space, xgb_default_param_space\n",
    "\n",
    "pd.set_option('display.max_columns', None)\n",
    "\n",
    "zip_file_path = './playground-series-s3e17.zip' # example dataset\n",
    "with zipfile.ZipFile(zip_file_path, 'r') as z:\n",
    "    \n",
    "    # Open the CSV file contained in the ZIP archive\n",
    "    with z.open('train.csv') as f:\n",
    "        # Read the CSV file into a pandas DataFrame\n",
    "        df_train = pd.read_csv(f)\n",
    "        \n",
    "    with z.open('test.csv') as f:\n",
    "        df_test = pd.read_csv(f)"
   ]
  },
  {
   "cell_type": "code",
   "execution_count": null,
   "id": "9ee98c48",
   "metadata": {
    "pycharm": {
     "name": "#%%\n"
    }
   },
   "outputs": [],
   "source": [
    "print(df_train.shape)\n",
    "display(df_train.head(2))"
   ]
  },
  {
   "cell_type": "code",
   "execution_count": null,
   "id": "39e5f6ad",
   "metadata": {
    "pycharm": {
     "name": "#%%\n"
    }
   },
   "outputs": [],
   "source": [
    "def preprocess_data(df_input, label_encode_col, one_hot_encode_col):\n",
    "    \"\"\"\n",
    "    Preprocesses a given DataFrame by label encoding and one-hot encoding specified columns.\n",
    "    \n",
    "    This function:\n",
    "    1. Removes the 'id' column if present.\n",
    "    2. Removes or replaces forbidden characters from column names.\n",
    "    3. Label encodes the specified column and drops the original column.\n",
    "    4. One-hot encodes the specified column and concatenates the resultant columns to the DataFrame, then drops the original column.\n",
    "\n",
    "    Parameters:\n",
    "    - df_input (pd.DataFrame): The input DataFrame to preprocess.\n",
    "    - label_encode_col (str): The column name to be label encoded.\n",
    "    - one_hot_encode_col (str): The column name to be one-hot encoded.\n",
    "\n",
    "    Returns:\n",
    "    - pd.DataFrame: The preprocessed DataFrame with the specified columns encoded accordingly.\n",
    "    \"\"\"\n",
    "    df = df_input.copy()\n",
    "    \n",
    "    df.drop('id', axis=1, inplace=True)\n",
    "    \n",
    "    # Remove or replace forbidden characters\n",
    "    df.columns = [re.sub(r'[<>\\[\\]]', '', col) for col in df.columns]\n",
    "\n",
    "    # Instantiate labelencoder object\n",
    "    labelencoder = LabelEncoder()\n",
    "    \n",
    "    # Apply LabelEncoder on the specified column\n",
    "    encoded_col_name = label_encode_col + '_encoded'\n",
    "    df[encoded_col_name] = labelencoder.fit_transform(df[label_encode_col])\n",
    "    \n",
    "    # Drop the original label encoding column from the DataFrame\n",
    "    df.drop(label_encode_col, axis=1, inplace=True)\n",
    "    \n",
    "    # Perform one-hot encoding on the specified column\n",
    "    one_hot = pd.get_dummies(df[one_hot_encode_col], prefix=one_hot_encode_col)\n",
    "    \n",
    "    \n",
    "    # Concatenate the original DataFrame with the one-hot encoded columns\n",
    "    df = pd.concat([df, one_hot], axis=1)\n",
    "    \n",
    "    # Drop the original one-hot encoding column from the DataFrame\n",
    "    df.drop(one_hot_encode_col, axis=1, inplace=True)\n",
    "    \n",
    "    return df"
   ]
  },
  {
   "cell_type": "code",
   "execution_count": null,
   "id": "041a0601",
   "metadata": {
    "pycharm": {
     "name": "#%%\n"
    }
   },
   "outputs": [],
   "source": [
    "# Use the function on df_train\n",
    "# Drop the original label encoding column from the DataFrame\n",
    "\n",
    "df_train_preprocessed = preprocess_data(df_train, 'Product ID', 'Type')\n",
    "df_test_preprocessed = preprocess_data(df_test, 'Product ID', 'Type')\n",
    "\n",
    "print(f'Columns: {list(df_train_preprocessed.columns)}')\n",
    "target_name = 'Machine failure'\n",
    "y_train = df_train_preprocessed[target_name]\n",
    "X_train = df_train_preprocessed.drop(target_name, axis=1)\n",
    "X_train.fillna(0, inplace=True)"
   ]
  },
  {
   "cell_type": "code",
   "execution_count": null,
   "id": "983e6c51",
   "metadata": {
    "pycharm": {
     "name": "#%%\n"
    },
    "scrolled": false
   },
   "outputs": [],
   "source": [
    "# Configuration settings for the experiment.\n",
    "# This dictionary holds key details for the setup, including dataset details, algorithm choice, search strategy, etc.\n",
    "# Some keys enhance the clarity of logs and outputs, ensuring reproducibility and transparency in experiments.\n",
    "global config\n",
    "config = {\n",
    "    'dataset_source': 'openml',               # Dataset's source platform; 'openml' in this instance.\n",
    "    'dataset': 38,                            # Unique identifier for the dataset on OpenML.\n",
    "    'algorithm': 'rf',                        # Chosen algorithm: Random Forest (denoted as 'rf').\n",
    "    'search_strategy': 'smbox',               # Optimization/search strategy, specified as 'smbox'.\n",
    "    'search_strategy_config': smbox_params,   # Configuration specifics for 'smbox'. Assumes `smbox_params` is predefined.\n",
    "    'wallclock': 600,                         # Maximum time allotted for the task (600 seconds or 10 minutes).\n",
    "    'output_root': './output/'                # Directory for saving output/results.\n",
    "}\n",
    "\n",
    "logger = Logger()\n",
    "logger.log(f'Experiment Config: {config}')\n",
    "\n",
    "# Create a dictionary with training data. This format is needed for the SMBOX optimizer.\n",
    "data = {\"X_train\": X_train, \"y_train\":y_train}\n",
    "\n",
    "# Determine the default hyperparameter search space based on the algorithm specified in the configuration.\n",
    "if config['algorithm'] == 'rf':\n",
    "    # Use the default Random Forest hyperparameter search space.\n",
    "    cfg_schema = rf_default_param_space\n",
    "    \n",
    "    # Customize the search space by setting an upper limit for the 'max_depth' parameter.\n",
    "    cfg_schema['tune']['max_depth']['max'] = 250\n",
    "elif config['algorithm'] == 'xgb':\n",
    "    # Use the default XGBoost hyperparameter search space.\n",
    "    cfg_schema = xgb_default_param_space\n",
    "    \n",
    "    # Update the 'scale_pos_weight' parameter, which helps in handling class imbalance.\n",
    "    # Calculate the balance ratio between the two classes in the training data.\n",
    "    classes = y_train.value_counts()\n",
    "    class_0 = min(classes.index.values)\n",
    "    class_1 = max(classes.index.values)\n",
    "    balance_ratio = round(classes[class_0] / classes[class_1], 2)\n",
    "    \n",
    "    # Set the calculated balance ratio as the fixed value for 'scale_pos_weight'.\n",
    "    cfg_schema['fix']['scale_pos_weight'] = balance_ratio\n",
    "\n",
    "logger.log(f'-------------Starting SMBOX')\n",
    "logger.log(f'Initial configuration schema: {cfg_schema}')\n",
    "\n",
    "optimiser = Optimise(config, random_seed=42)\n",
    "best_parameters, best_perf = optimiser.SMBOXOptimise(data, cfg_schema)"
   ]
  },
  {
   "cell_type": "markdown",
   "id": "a45ae4b3",
   "metadata": {
    "pycharm": {
     "name": "#%% md\n"
    }
   },
   "source": [
    "## Geneate predictions on the test set using the best found params"
   ]
  },
  {
   "cell_type": "code",
   "execution_count": null,
   "id": "a6408fe8",
   "metadata": {
    "pycharm": {
     "name": "#%%\n"
    }
   },
   "outputs": [],
   "source": [
    "from sklearn.ensemble import RandomForestClassifier\n",
    "from xgboost import XGBClassifier\n",
    "\n",
    "if config['algorithm'] == 'rf':\n",
    "    model = RandomForestClassifier(**best_parameters, random_state=42)\n",
    "elif config['algorithm'] == 'xgb':\n",
    "    model = XGBClassifier(**best_parameters, random_state=42)\n",
    "\n",
    "model.fit(X_train, y_train)"
   ]
  },
  {
   "cell_type": "code",
   "execution_count": null,
   "id": "7ff74d7d",
   "metadata": {
    "pycharm": {
     "name": "#%%\n"
    }
   },
   "outputs": [],
   "source": [
    "df_test['Machine failure'] = model.predict_proba(df_test_preprocessed)[:, 1] \n",
    "df_submission = df_test[['id', 'Machine failure']]"
   ]
  },
  {
   "cell_type": "code",
   "execution_count": null,
   "id": "b05b7e28",
   "metadata": {
    "pycharm": {
     "name": "#%%\n"
    }
   },
   "outputs": [],
   "source": [
    "from datetime import datetime\n",
    "\n",
    "timestamp = datetime.now().strftime(\"%Y_%m_%d_%H%M%S\")\n",
    "output_path = f\"submission_{config['algorithm']}_{timestamp}.csv\"\n",
    "\n",
    "df_submission.to_csv(output_path, index=False)"
   ]
  }
 ],
 "metadata": {
  "kernelspec": {
   "display_name": "Python [conda env:hhpo]",
   "language": "python",
   "name": "conda-env-hhpo-py"
  },
  "language_info": {
   "codemirror_mode": {
    "name": "ipython",
    "version": 3
   },
   "file_extension": ".py",
   "mimetype": "text/x-python",
   "name": "python",
   "nbconvert_exporter": "python",
   "pygments_lexer": "ipython3",
   "version": "3.7.13"
  }
 },
 "nbformat": 4,
 "nbformat_minor": 5
}
