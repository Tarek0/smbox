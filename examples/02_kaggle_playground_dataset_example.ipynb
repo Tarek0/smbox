{
 "cells": [
  {
   "cell_type": "code",
   "execution_count": null,
   "id": "bda6d074",
   "metadata": {},
   "outputs": [],
   "source": [
    "import pandas as pd\n",
    "import zipfile\n",
    "import re\n",
    "from sklearn.preprocessing import LabelEncoder\n",
    "import sys\n",
    "sys.path.insert(0, \"./smbox\")\n",
    "\n",
    "from smbox.Utils import Logger\n",
    "from smbox.Optimise import Optimise\n",
    "from smbox.smbox_config import smbox_params\n",
    "from smbox.ParamSpace import rf_default_param_space, xgb_default_param_space\n",
    "\n",
    "pd.set_option('display.max_columns', None)\n",
    "\n",
    "zip_file_path = './playground-series-s3e17.zip'\n",
    "with zipfile.ZipFile(zip_file_path, 'r') as z:\n",
    "    \n",
    "    # Open the CSV file contained in the ZIP archive\n",
    "    with z.open('train.csv') as f:\n",
    "        # Read the CSV file into a pandas DataFrame\n",
    "        df_train = pd.read_csv(f)\n",
    "        \n",
    "    with z.open('test.csv') as f:\n",
    "        df_test = pd.read_csv(f)"
   ]
  },
  {
   "cell_type": "code",
   "execution_count": null,
   "id": "9ee98c48",
   "metadata": {},
   "outputs": [],
   "source": [
    "print(df_train.shape)\n",
    "display(df_train.head(2))"
   ]
  },
  {
   "cell_type": "code",
   "execution_count": null,
   "id": "39e5f6ad",
   "metadata": {},
   "outputs": [],
   "source": [
    "def preprocess_data(df_input, label_encode_col, one_hot_encode_col):\n",
    "    \"\"\"\n",
    "    Preprocess DataFrame.\n",
    "    \n",
    "    :param df_input: The input DataFrame\n",
    "    :param label_encode_col: The name of the column to be label encoded\n",
    "    :param one_hot_encode_col: The name of the column to be one-hot encoded\n",
    "    :return: The modified DataFrame with the encoded features\n",
    "    \"\"\"\n",
    "    df = df_input.copy()\n",
    "    \n",
    "    df.drop('id', axis=1, inplace=True)\n",
    "    \n",
    "    # Remove or replace forbidden characters\n",
    "    df.columns = [re.sub(r'[<>\\[\\]]', '', col) for col in df.columns]\n",
    "\n",
    "    # Instantiate labelencoder object\n",
    "    labelencoder = LabelEncoder()\n",
    "    \n",
    "    # Apply LabelEncoder on the specified column\n",
    "    encoded_col_name = label_encode_col + '_encoded'\n",
    "    df[encoded_col_name] = labelencoder.fit_transform(df[label_encode_col])\n",
    "    \n",
    "    # Drop the original label encoding column from the DataFrame\n",
    "    df.drop(label_encode_col, axis=1, inplace=True)\n",
    "    \n",
    "    # Perform one-hot encoding on the specified column\n",
    "    one_hot = pd.get_dummies(df[one_hot_encode_col], prefix=one_hot_encode_col)\n",
    "    \n",
    "    \n",
    "    # Concatenate the original DataFrame with the one-hot encoded columns\n",
    "    df = pd.concat([df, one_hot], axis=1)\n",
    "    \n",
    "    # Drop the original one-hot encoding column from the DataFrame\n",
    "    df.drop(one_hot_encode_col, axis=1, inplace=True)\n",
    "    \n",
    "    return df"
   ]
  },
  {
   "cell_type": "code",
   "execution_count": null,
   "id": "041a0601",
   "metadata": {},
   "outputs": [],
   "source": [
    "# Use the function on df_train\n",
    "# Drop the original label encoding column from the DataFrame\n",
    "\n",
    "df_train_preprocessed = preprocess_data(df_train, 'Product ID', 'Type')\n",
    "df_test_preprocessed = preprocess_data(df_test, 'Product ID', 'Type')\n",
    "\n",
    "print(f'Columns: {list(df_train_preprocessed.columns)}')\n",
    "target_name = 'Machine failure'\n",
    "y_train = df_train_preprocessed[target_name]\n",
    "X_train = df_train_preprocessed.drop(target_name, axis=1)\n",
    "X_train.fillna(0, inplace=True)"
   ]
  },
  {
   "cell_type": "code",
   "execution_count": null,
   "id": "983e6c51",
   "metadata": {
    "scrolled": false
   },
   "outputs": [],
   "source": [
    "logger = Logger()\n",
    "\n",
    "##---- smbox config\n",
    "# Define a configuration dict to hold all key information\n",
    "global config\n",
    "config = {'dataset_source': 'openml'\n",
    "    , 'dataset': 'playground-series-s3e17'\n",
    "    , 'algorithm': 'rf'\n",
    "    , 'search_strategy': 'smbox'\n",
    "    , 'search_strategy_config': smbox_params\n",
    "    , 'wallclock': 3600\n",
    "    , 'output_root': '/Users/salhit/development/smbox/smbox/test/resources/output/'\n",
    "          }\n",
    "logger.log(f'Experiment Config: {config}')\n",
    "##----\n",
    "\n",
    "data = {\"X_train\": X_train, \"y_train\":y_train} # requried data format for SMBOX\n",
    "\n",
    "# use default rf hperparameter search space\n",
    "if config['algorithm'] == 'rf':\n",
    "    cfg_schema = rf_default_param_space\n",
    "    # update param space for the max_depth variable\n",
    "    cfg_schema['tune']['max_depth']['max'] = 250\n",
    "elif config['algorithm'] == 'xgb':\n",
    "    cfg_schema = xgb_default_param_space\n",
    "    # update the default scale_pos_weight param\n",
    "    classes = y_train.value_counts()\n",
    "    class_0 = min(classes.index.values)\n",
    "    class_1 = max(classes.index.values)\n",
    "    balance_ratio = round(classes[class_0] / classes[class_1], 2)\n",
    "    cfg_schema['fix']['scale_pos_weight'] = balance_ratio\n",
    "\n",
    "\n",
    "logger.log(f'-------------Starting SMBOX')\n",
    "logger.log(f'Initial configuration schema: {cfg_schema}')\n",
    "\n",
    "optimiser = Optimise(config, random_seed=42)\n",
    "best_parameters = optimiser.SMBOXOptimise(data, cfg_schema)"
   ]
  },
  {
   "cell_type": "markdown",
   "id": "a45ae4b3",
   "metadata": {},
   "source": [
    "## Geneate predictions on the test set using the best found params"
   ]
  },
  {
   "cell_type": "code",
   "execution_count": null,
   "id": "a6408fe8",
   "metadata": {},
   "outputs": [],
   "source": [
    "from sklearn.ensemble import RandomForestClassifier\n",
    "from xgboost import XGBClassifier\n",
    "\n",
    "if config['algorithm'] == 'rf':\n",
    "    model = RandomForestClassifier(**best_parameters, random_state=42)\n",
    "elif config['algorithm'] == 'xgb':\n",
    "    model = XGBClassifier(**best_parameters, random_state=42)\n",
    "\n",
    "model.fit(X_train, y_train)"
   ]
  },
  {
   "cell_type": "code",
   "execution_count": null,
   "id": "7ff74d7d",
   "metadata": {},
   "outputs": [],
   "source": [
    "df_test['Machine failure'] = model.predict_proba(df_test_preprocessed)[:, 1] \n",
    "df_submission = df_test[['id', 'Machine failure']]"
   ]
  },
  {
   "cell_type": "code",
   "execution_count": null,
   "id": "b05b7e28",
   "metadata": {},
   "outputs": [],
   "source": [
    "from datetime import datetime\n",
    "\n",
    "timestamp = datetime.now().strftime(\"%Y_%m_%d_%H%M%S\")\n",
    "output_path = f\"submission_{config['algorithm']}_{timestamp}.csv\"\n",
    "\n",
    "df_submission.to_csv(output_path, index=False)"
   ]
  }
 ],
 "metadata": {
  "kernelspec": {
   "display_name": "Python [conda env:smbox-examples]",
   "language": "python",
   "name": "conda-env-smbox-examples-py"
  },
  "language_info": {
   "codemirror_mode": {
    "name": "ipython",
    "version": 3
   },
   "file_extension": ".py",
   "mimetype": "text/x-python",
   "name": "python",
   "nbconvert_exporter": "python",
   "pygments_lexer": "ipython3",
   "version": "3.11.4"
  }
 },
 "nbformat": 4,
 "nbformat_minor": 5
}
