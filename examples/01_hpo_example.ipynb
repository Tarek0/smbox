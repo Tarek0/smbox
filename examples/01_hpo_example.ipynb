{
 "cells": [
  {
   "cell_type": "code",
   "execution_count": 1,
   "id": "b30b6653",
   "metadata": {
    "pycharm": {
     "name": "#%%\n"
    }
   },
   "outputs": [],
   "source": [
    "import pandas as pd\n",
    "from smbox.utils import Logger\n",
    "from smbox.optimise import Optimise\n",
    "from smbox.smbox_config import smbox_params\n",
    "from smbox.paramspace import rf_default_param_space\n",
    "from smbox.default_objectives import rf_objective"
   ]
  },
  {
   "cell_type": "code",
   "execution_count": 2,
   "id": "cab09c05",
   "metadata": {
    "pycharm": {
     "name": "#%%\n"
    }
   },
   "outputs": [],
   "source": [
    "# Configuration settings for the experiment.\n",
    "# This dictionary holds key details for the setup, including dataset details, algorithm choice, search strategy, etc.\n",
    "# Some keys enhance the clarity of logs and outputs, ensuring reproducibility and transparency in experiments.\n",
    "global config\n",
    "config = {\n",
    "    'dataset_source': 'openml',               # Dataset's source platform; 'openml' in this instance.\n",
    "    'dataset': 38,                            # Unique identifier for the dataset on OpenML.\n",
    "    'algorithm': 'rf',                        # Chosen algorithm: Random Forest (denoted as 'rf').\n",
    "    'search_strategy': 'smbox',               # Optimization/search strategy, specified as 'smbox'.\n",
    "    'search_strategy_config': smbox_params,   # Configuration specifics for 'smbox'. Assumes `smbox_params` is predefined.\n",
    "    'wallclock': 600,                         # Maximum time allotted for the task (600 seconds or 10 minutes).\n",
    "    'output_root': './output/'                # Directory for saving output/results.\n",
    "}\n",
    "\n",
    "logger = Logger()\n",
    "logger.log(f'Experiment Config: {config}', 'DEBUG')\n",
    "\n",
    "# Set a fixed random seed for reproducibility across runs.\n",
    "_random_seed = 42"
   ]
  },
  {
   "cell_type": "code",
   "execution_count": 3,
   "id": "128ed877",
   "metadata": {
    "pycharm": {
     "name": "#%%\n"
    }
   },
   "outputs": [],
   "source": [
    "def fetch_open_ml_data(dataset_id):\n",
    "    \"\"\"\n",
    "    Fetches a dataset from OpenML based on a provided dataset ID.\n",
    "\n",
    "    Parameters:\n",
    "    - dataset_id (int): The identifier of the dataset on OpenML.\n",
    "\n",
    "    Returns:\n",
    "    - pd.DataFrame: The fetched dataset in a pandas DataFrame format.\n",
    "    - str: The name of the target column, which is 'target' in this case.\n",
    "    \"\"\"\n",
    "    import openml\n",
    "    \n",
    "    dataset = openml.datasets.get_dataset(dataset_id)\n",
    "    print(dataset)\n",
    "\n",
    "    X, y, categorical_indicator, attribute_names = dataset.get_data(\n",
    "        dataset_format=\"array\", target=dataset.default_target_attribute\n",
    "    )\n",
    "    df = pd.DataFrame(X, columns=attribute_names)\n",
    "    df[\"target\"] = y\n",
    "\n",
    "    return df, 'target'"
   ]
  },
  {
   "cell_type": "code",
   "execution_count": 5,
   "id": "5a062251",
   "metadata": {
    "pycharm": {
     "name": "#%%\n"
    }
   },
   "outputs": [
    {
     "name": "stdout",
     "output_type": "stream",
     "text": [
      "OpenML Dataset\n",
      "==============\n",
      "Name..........: sick\n",
      "Version.......: 1\n",
      "Format........: ARFF\n",
      "Upload Date...: 2014-04-06 23:22:19\n",
      "Licence.......: Public\n",
      "Download URL..: https://api.openml.org/data/v1/download/38/sick.arff\n",
      "OpenML URL....: https://www.openml.org/d/38\n",
      "# of features.: 30\n",
      "# of instances: 3772\n"
     ]
    },
    {
     "data": {
      "text/html": [
       "<div>\n",
       "<style scoped>\n",
       "    .dataframe tbody tr th:only-of-type {\n",
       "        vertical-align: middle;\n",
       "    }\n",
       "\n",
       "    .dataframe tbody tr th {\n",
       "        vertical-align: top;\n",
       "    }\n",
       "\n",
       "    .dataframe thead th {\n",
       "        text-align: right;\n",
       "    }\n",
       "</style>\n",
       "<table border=\"1\" class=\"dataframe\">\n",
       "  <thead>\n",
       "    <tr style=\"text-align: right;\">\n",
       "      <th></th>\n",
       "      <th>age</th>\n",
       "      <th>sex</th>\n",
       "      <th>on_thyroxine</th>\n",
       "      <th>query_on_thyroxine</th>\n",
       "      <th>on_antithyroid_medication</th>\n",
       "      <th>sick</th>\n",
       "      <th>pregnant</th>\n",
       "      <th>thyroid_surgery</th>\n",
       "      <th>I131_treatment</th>\n",
       "      <th>query_hypothyroid</th>\n",
       "      <th>...</th>\n",
       "      <th>TT4_measured</th>\n",
       "      <th>TT4</th>\n",
       "      <th>T4U_measured</th>\n",
       "      <th>T4U</th>\n",
       "      <th>FTI_measured</th>\n",
       "      <th>FTI</th>\n",
       "      <th>TBG_measured</th>\n",
       "      <th>TBG</th>\n",
       "      <th>referral_source</th>\n",
       "      <th>target</th>\n",
       "    </tr>\n",
       "  </thead>\n",
       "  <tbody>\n",
       "    <tr>\n",
       "      <th>0</th>\n",
       "      <td>41.0</td>\n",
       "      <td>0.0</td>\n",
       "      <td>0.0</td>\n",
       "      <td>0.0</td>\n",
       "      <td>0.0</td>\n",
       "      <td>0.0</td>\n",
       "      <td>0.0</td>\n",
       "      <td>0.0</td>\n",
       "      <td>0.0</td>\n",
       "      <td>0.0</td>\n",
       "      <td>...</td>\n",
       "      <td>0.0</td>\n",
       "      <td>125.0</td>\n",
       "      <td>0.0</td>\n",
       "      <td>1.14</td>\n",
       "      <td>0.0</td>\n",
       "      <td>109.0</td>\n",
       "      <td>0.0</td>\n",
       "      <td>NaN</td>\n",
       "      <td>0.0</td>\n",
       "      <td>0</td>\n",
       "    </tr>\n",
       "    <tr>\n",
       "      <th>1</th>\n",
       "      <td>23.0</td>\n",
       "      <td>0.0</td>\n",
       "      <td>0.0</td>\n",
       "      <td>0.0</td>\n",
       "      <td>0.0</td>\n",
       "      <td>0.0</td>\n",
       "      <td>0.0</td>\n",
       "      <td>0.0</td>\n",
       "      <td>0.0</td>\n",
       "      <td>0.0</td>\n",
       "      <td>...</td>\n",
       "      <td>0.0</td>\n",
       "      <td>102.0</td>\n",
       "      <td>1.0</td>\n",
       "      <td>NaN</td>\n",
       "      <td>1.0</td>\n",
       "      <td>NaN</td>\n",
       "      <td>0.0</td>\n",
       "      <td>NaN</td>\n",
       "      <td>1.0</td>\n",
       "      <td>0</td>\n",
       "    </tr>\n",
       "    <tr>\n",
       "      <th>2</th>\n",
       "      <td>46.0</td>\n",
       "      <td>1.0</td>\n",
       "      <td>0.0</td>\n",
       "      <td>0.0</td>\n",
       "      <td>0.0</td>\n",
       "      <td>0.0</td>\n",
       "      <td>0.0</td>\n",
       "      <td>0.0</td>\n",
       "      <td>0.0</td>\n",
       "      <td>0.0</td>\n",
       "      <td>...</td>\n",
       "      <td>0.0</td>\n",
       "      <td>109.0</td>\n",
       "      <td>0.0</td>\n",
       "      <td>0.91</td>\n",
       "      <td>0.0</td>\n",
       "      <td>120.0</td>\n",
       "      <td>0.0</td>\n",
       "      <td>NaN</td>\n",
       "      <td>1.0</td>\n",
       "      <td>0</td>\n",
       "    </tr>\n",
       "    <tr>\n",
       "      <th>3</th>\n",
       "      <td>70.0</td>\n",
       "      <td>0.0</td>\n",
       "      <td>1.0</td>\n",
       "      <td>0.0</td>\n",
       "      <td>0.0</td>\n",
       "      <td>0.0</td>\n",
       "      <td>0.0</td>\n",
       "      <td>0.0</td>\n",
       "      <td>0.0</td>\n",
       "      <td>0.0</td>\n",
       "      <td>...</td>\n",
       "      <td>0.0</td>\n",
       "      <td>175.0</td>\n",
       "      <td>1.0</td>\n",
       "      <td>NaN</td>\n",
       "      <td>1.0</td>\n",
       "      <td>NaN</td>\n",
       "      <td>0.0</td>\n",
       "      <td>NaN</td>\n",
       "      <td>1.0</td>\n",
       "      <td>0</td>\n",
       "    </tr>\n",
       "    <tr>\n",
       "      <th>4</th>\n",
       "      <td>70.0</td>\n",
       "      <td>0.0</td>\n",
       "      <td>0.0</td>\n",
       "      <td>0.0</td>\n",
       "      <td>0.0</td>\n",
       "      <td>0.0</td>\n",
       "      <td>0.0</td>\n",
       "      <td>0.0</td>\n",
       "      <td>0.0</td>\n",
       "      <td>0.0</td>\n",
       "      <td>...</td>\n",
       "      <td>0.0</td>\n",
       "      <td>61.0</td>\n",
       "      <td>0.0</td>\n",
       "      <td>0.87</td>\n",
       "      <td>0.0</td>\n",
       "      <td>70.0</td>\n",
       "      <td>0.0</td>\n",
       "      <td>NaN</td>\n",
       "      <td>2.0</td>\n",
       "      <td>0</td>\n",
       "    </tr>\n",
       "  </tbody>\n",
       "</table>\n",
       "<p>5 rows × 30 columns</p>\n",
       "</div>"
      ],
      "text/plain": [
       "    age  sex  on_thyroxine  query_on_thyroxine  on_antithyroid_medication  \\\n",
       "0  41.0  0.0           0.0                 0.0                        0.0   \n",
       "1  23.0  0.0           0.0                 0.0                        0.0   \n",
       "2  46.0  1.0           0.0                 0.0                        0.0   \n",
       "3  70.0  0.0           1.0                 0.0                        0.0   \n",
       "4  70.0  0.0           0.0                 0.0                        0.0   \n",
       "\n",
       "   sick  pregnant  thyroid_surgery  I131_treatment  query_hypothyroid  ...  \\\n",
       "0   0.0       0.0              0.0             0.0                0.0  ...   \n",
       "1   0.0       0.0              0.0             0.0                0.0  ...   \n",
       "2   0.0       0.0              0.0             0.0                0.0  ...   \n",
       "3   0.0       0.0              0.0             0.0                0.0  ...   \n",
       "4   0.0       0.0              0.0             0.0                0.0  ...   \n",
       "\n",
       "   TT4_measured    TT4  T4U_measured   T4U  FTI_measured    FTI  TBG_measured  \\\n",
       "0           0.0  125.0           0.0  1.14           0.0  109.0           0.0   \n",
       "1           0.0  102.0           1.0   NaN           1.0    NaN           0.0   \n",
       "2           0.0  109.0           0.0  0.91           0.0  120.0           0.0   \n",
       "3           0.0  175.0           1.0   NaN           1.0    NaN           0.0   \n",
       "4           0.0   61.0           0.0  0.87           0.0   70.0           0.0   \n",
       "\n",
       "   TBG  referral_source  target  \n",
       "0  NaN              0.0       0  \n",
       "1  NaN              1.0       0  \n",
       "2  NaN              1.0       0  \n",
       "3  NaN              1.0       0  \n",
       "4  NaN              2.0       0  \n",
       "\n",
       "[5 rows x 30 columns]"
      ]
     },
     "metadata": {},
     "output_type": "display_data"
    }
   ],
   "source": [
    "# Fetch the dataset from OpenML with ID 38.\n",
    "df, target_name = fetch_open_ml_data(config['dataset'])\n",
    "\n",
    "# Display the first few rows of the fetched dataset for a quick overview.\n",
    "display(df.head())\n",
    "\n",
    "# Extract the target column (labels) based on the 'target_name'.\n",
    "y = df[target_name]\n",
    "\n",
    "# Prepare the feature matrix (X) by removing the target column.\n",
    "X = df.drop(target_name, axis=1)\n",
    "\n",
    "# Handle any missing values in the dataset by replacing them with 0.\n",
    "X.fillna(0, inplace=True)"
   ]
  },
  {
   "cell_type": "code",
   "execution_count": 7,
   "id": "0bdca9a0",
   "metadata": {
    "pycharm": {
     "name": "#%%\n"
    }
   },
   "outputs": [
    {
     "name": "stdout",
     "output_type": "stream",
     "text": [
      "2023-09-26 09:41:09: -------------Starting SMBOX\n",
      "2023-09-26 09:41:09: Starting run for: 38, for 600 seconds\n",
      "2023-09-26 09:41:32: Global best so far: 0.9631951758565462\n",
      "2023-09-26 09:41:38: improvement: 0.027920885052071576\n",
      "2023-09-26 09:41:38: Global best so far: 0.9911160609086178\n",
      "2023-09-26 09:42:00: improvement: 0.0009919733751566628\n",
      "2023-09-26 09:42:00: Global best so far: 0.9921080342837745\n",
      "2023-09-26 09:43:05: improvement: 0.0015330720130961595\n",
      "2023-09-26 09:43:05: Global best so far: 0.9936411062968706\n",
      "2023-09-26 09:44:47: improvement: 0.0014203371267609288\n",
      "2023-09-26 09:44:47: Global best so far: 0.9950614434236316\n",
      "2023-09-26 09:50:52: improvement: 0.00017525620791802865\n",
      "2023-09-26 09:50:52: Global best so far: 0.9952366996315496\n",
      "2023-09-26 09:51:11: Global best: 0.9952366996315496\n",
      "2023-09-26 09:51:11: Best params: {'max_features': 0.45876741314612923, 'n_estimators': 187, 'max_depth': 65, 'min_samples_leaf': 0.0019923439868258165, 'min_samples_split': 0.0033511392166982656, 'class_weight': 'balanced_subsample'}\n",
      "2023-09-26 09:51:11: Trial output saved to: ./output/trials_smbox_38_rf_2023_09_26_095111.csv\n",
      "2023-09-26 09:51:11: RUN COMPLETE\n"
     ]
    }
   ],
   "source": [
    "# Create a dictionary with training data. This format is needed for the SMBOX optimizer.\n",
    "data = {\"X_train\": X, \"y_train\":y} \n",
    "\n",
    "# Use our default hyperparameter search space for a Random Forest algorithm.\n",
    "cfg_schema = rf_default_param_space\n",
    "\n",
    "logger.log(f'-------------Starting SMBOX')\n",
    "logger.log(f'Initial configuration schema: {cfg_schema}', 'DEBUG')\n",
    "\n",
    "# Initialize the optimization process with the given configuration and a specific random seed.\n",
    "optimiser = Optimise(config, rf_objective, _random_seed)\n",
    "\n",
    "# Use SMBOX to find the best hyperparameters for the model based on the provided data and search space.\n",
    "best_parameters, best_perf = optimiser.SMBOXOptimise(data, cfg_schema)"
   ]
  },
  {
   "cell_type": "code",
   "execution_count": 8,
   "id": "29271f48",
   "metadata": {
    "pycharm": {
     "name": "#%%\n"
    }
   },
   "outputs": [
    {
     "data": {
      "text/plain": [
       "({'max_features': 0.45876741314612923,\n",
       "  'n_estimators': 187,\n",
       "  'max_depth': 65,\n",
       "  'min_samples_leaf': 0.0019923439868258165,\n",
       "  'min_samples_split': 0.0033511392166982656,\n",
       "  'class_weight': 'balanced_subsample'},\n",
       " 0.9952366996315496)"
      ]
     },
     "execution_count": 8,
     "metadata": {},
     "output_type": "execute_result"
    }
   ],
   "source": [
    "best_parameters, best_perf"
   ]
  },
  {
   "cell_type": "code",
   "execution_count": null,
   "id": "a99d099f",
   "metadata": {
    "pycharm": {
     "name": "#%%\n"
    }
   },
   "outputs": [],
   "source": []
  }
 ],
 "metadata": {
  "kernelspec": {
   "display_name": "Python [conda env:hhpo]",
   "language": "python",
   "name": "conda-env-hhpo-py"
  },
  "language_info": {
   "codemirror_mode": {
    "name": "ipython",
    "version": 3
   },
   "file_extension": ".py",
   "mimetype": "text/x-python",
   "name": "python",
   "nbconvert_exporter": "python",
   "pygments_lexer": "ipython3",
   "version": "3.7.13"
  }
 },
 "nbformat": 4,
 "nbformat_minor": 5
}